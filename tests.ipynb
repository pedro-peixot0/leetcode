{
 "cells": [
  {
   "cell_type": "code",
   "execution_count": 26,
   "metadata": {},
   "outputs": [],
   "source": [
    "from typing import Optional\n",
    "\n",
    "# Definition for a binary tree node.\n",
    "class TreeNode:\n",
    "    def __init__(self, val=0, left=None, right=None):\n",
    "        self.val = val\n",
    "        self.left = left\n",
    "        self.right = right\n",
    "\n",
    "class Solution:\n",
    "    def levelOrder(self, root: Optional[TreeNode]) -> list[list[int]]:\n",
    "        if root is None:\n",
    "            return []\n",
    "        \n",
    "        all_nodes = [[root.val]]\n",
    "        def get_vals(node):\n",
    "            result=[]\n",
    "            if node is None:\n",
    "                return None\n",
    "            \n",
    "            if node.left:\n",
    "                result.append(node.left.val)\n",
    "            \n",
    "            if node.right:\n",
    "                result.append(node.right.val)\n",
    "            \n",
    "            if result:\n",
    "                all_nodes.append(result)\n",
    "                get_vals(node.left)\n",
    "                get_vals(node.right)\n",
    "            else:\n",
    "                return None\n",
    "\n",
    "            return None\n",
    "        \n",
    "        get_vals(root)\n",
    "\n",
    "        return all_nodes"
   ]
  },
  {
   "cell_type": "code",
   "execution_count": 29,
   "metadata": {},
   "outputs": [],
   "source": [
    "from typing import Optional\n",
    "\n",
    "class TreeNode:\n",
    "    def __init__(self, val=0, left=None, right=None):\n",
    "        self.val = val\n",
    "        self.left = left\n",
    "        self.right = right\n",
    "\n",
    "class Solution:\n",
    "    def levelOrder(self, root: Optional[TreeNode]) -> int:\n",
    "        all_depths = []\n",
    "\n",
    "        def count_depth(root: TreeNode, depth: int) -> None:\n",
    "            if root is None:\n",
    "                return None\n",
    "            \n",
    "            depth += 1\n",
    "            if depth > len(all_depths):\n",
    "                all_depths.append([root.val])\n",
    "            else:\n",
    "                all_depths[depth-1].append(root.val)\n",
    "\n",
    "            count_depth(root.left, depth)\n",
    "            count_depth(root.right, depth)\n",
    "\n",
    "            return None\n",
    "\n",
    "        count_depth(root=root, depth=0)\n",
    "\n",
    "\n",
    "        return all_depths"
   ]
  },
  {
   "cell_type": "code",
   "execution_count": null,
   "metadata": {},
   "outputs": [],
   "source": [
    "from typing import Optional\n",
    "\n",
    "class TreeNode:\n",
    "    def __init__(self, val=0, left=None, right=None):\n",
    "        self.val = val\n",
    "        self.left = left\n",
    "        self.right = right\n",
    "\n",
    "class Solution:\n",
    "    def levelOrder(self, root: Optional[TreeNode]) -> list[list[int]]:\n",
    "        if root is None:\n",
    "            return []\n",
    "        \n",
    "        all_level_order = [[root.val]]\n",
    "\n",
    "        level = [root.left, root.right]\n",
    "        while level:\n",
    "            next_level = []\n",
    "            level_order = []\n",
    "\n",
    "            for node in level:\n",
    "                if node is None:\n",
    "                    continue\n",
    "\n",
    "                level_order.append(node.val)\n",
    "\n",
    "                next_level.append(node.left)\n",
    "                next_level.append(node.right)                \n",
    "            \n",
    "            level = next_level\n",
    "            if level_order:\n",
    "                all_level_order.append(level_order)\n",
    "\n",
    "        return all_level_order"
   ]
  },
  {
   "cell_type": "code",
   "execution_count": 30,
   "metadata": {},
   "outputs": [
    {
     "data": {
      "text/plain": [
       "[[]]"
      ]
     },
     "execution_count": 30,
     "metadata": {},
     "output_type": "execute_result"
    }
   ],
   "source": [
    "all_depths={1:2}\n",
    "\n",
    "[[] for i in range(max(all_depths.keys()))]"
   ]
  },
  {
   "cell_type": "code",
   "execution_count": 31,
   "metadata": {},
   "outputs": [
    {
     "ename": "IndexError",
     "evalue": "list assignment index out of range",
     "output_type": "error",
     "traceback": [
      "\u001b[0;31m---------------------------------------------------------------------------\u001b[0m",
      "\u001b[0;31mIndexError\u001b[0m                                Traceback (most recent call last)",
      "\u001b[1;32m/Users/pedro.ferreira/Documents/personal/git/leetcode/tests.ipynb Cell 4\u001b[0m line \u001b[0;36m2\n\u001b[1;32m      <a href='vscode-notebook-cell:/Users/pedro.ferreira/Documents/personal/git/leetcode/tests.ipynb#X34sZmlsZQ%3D%3D?line=0'>1</a>\u001b[0m l \u001b[39m=\u001b[39m []\n\u001b[0;32m----> <a href='vscode-notebook-cell:/Users/pedro.ferreira/Documents/personal/git/leetcode/tests.ipynb#X34sZmlsZQ%3D%3D?line=1'>2</a>\u001b[0m l[\u001b[39m5\u001b[39;49m] \u001b[39m=\u001b[39m[]\n",
      "\u001b[0;31mIndexError\u001b[0m: list assignment index out of range"
     ]
    }
   ],
   "source": []
  },
  {
   "cell_type": "code",
   "execution_count": null,
   "metadata": {},
   "outputs": [],
   "source": []
  }
 ],
 "metadata": {
  "kernelspec": {
   "display_name": "Python 3",
   "language": "python",
   "name": "python3"
  },
  "language_info": {
   "codemirror_mode": {
    "name": "ipython",
    "version": 3
   },
   "file_extension": ".py",
   "mimetype": "text/x-python",
   "name": "python",
   "nbconvert_exporter": "python",
   "pygments_lexer": "ipython3",
   "version": "3.9.6"
  }
 },
 "nbformat": 4,
 "nbformat_minor": 2
}
