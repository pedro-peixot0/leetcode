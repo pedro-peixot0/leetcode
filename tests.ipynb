{
 "cells": [
  {
   "cell_type": "code",
   "execution_count": 12,
   "metadata": {},
   "outputs": [],
   "source": [
    "class Solution:\n",
    "    def get_strings_with_simple_swaps_made(s1,s2):\n",
    "        correct_order = []\n",
    "        out_of_place = []\n",
    "\n",
    "        for i, c in enumerate(s1):\n",
    "            if c != s2[i]:\n",
    "                correct_order.append(c)\n",
    "                out_of_place.append(s2[i])\n",
    "# [a, b]\n",
    "# [b, a]\n",
    "# {\n",
    "#   0:[1]\n",
    "# }\n",
    "        swap_dict = {} # every position of wrogn letters that could be in a correct position\n",
    "        simple_swap_count = 0\n",
    "        for i1, c1 in enumerate(correct_order):\n",
    "            swap_dict[i1] = []\n",
    "            for i2, c2 in enumerate(out_of_place):\n",
    "                print\n",
    "                if c1 == c2:\n",
    "                    if i1 in swap_dict.get(i2,[]):\n",
    "                        out_of_place = [i for i,_ in enumerate(out_of_place) if i not in (i1,i2)]\n",
    "                        correct_order = [i for i,_ in enumerate(correct_order) if i not in (i1,i2)]\n",
    "                        del swap_dict[i2]\n",
    "                        del swap_dict[i1]\n",
    "                        simple_swap_count += 1\n",
    "                        break\n",
    "                    else:\n",
    "                        swap_dict[i1].append(i2)\n",
    "\n",
    "        return correct_order, out_of_place, simple_swap_count\n",
    "    \n",
    "    @staticmethod\n",
    "    def kSimilarity(s1: str, s2: str) -> int:\n",
    "        s1, s2, add_swaps = Solution.get_strings_with_simple_swaps_made(s1,s2)\n",
    "\n",
    "        #the deque keeps track of the set of strings that we want to perform swaps on\n",
    "        #at the start, the deque contains only s1\n",
    "        deque = collections.deque([s1])\n",
    "        \n",
    "        #this set wasn't mentioned in the \"intuition\" part. it helps us avoid doing repeated work by adding the same strings to our deque\n",
    "        seen = set() \n",
    "        \n",
    "        answ=0 #counter for the number of \"swaps\" done so far\n",
    "        \n",
    "        \n",
    "        while deque:\n",
    "            for _ in range(len(deque)): #loops through each string in the deque\n",
    "                \n",
    "                string = deque.popleft() #gets the first string in the deque\n",
    "                if string ==s2: return answ + add_swaps\n",
    "                \n",
    "                #finds the first non-matching letter in s1\n",
    "                #this satisfies condition 1 of a \"useful\" swap\n",
    "                #ex: this would be s1[3] in the above example\n",
    "                i=0\n",
    "                while string[i]==s2[i]:\n",
    "                    i+=1\n",
    "                \n",
    "                #checks all the other letters for potential swaps\n",
    "                for j in range(i+1, len(string)):\n",
    "                    if string[i]==s2[j]!=s1[j]: #checks conditions 2 and 3 of a useful swap\n",
    "                        \n",
    "                        #swaps the letters at positions i and j\n",
    "                        new = string[:i] + string[j] + string[i+1:j] + string[i] + string[j+1:]\n",
    "                        \n",
    "                        #adds the \"new string\" if it was not previously added\n",
    "                        if new not in seen:\n",
    "                            seen.add(new)\n",
    "                            deque.append(new)\n",
    "            \n",
    "            #record that one more swap was done for each string in the deque\n",
    "            answ+=1\n",
    "        \n",
    "\n"
   ]
  },
  {
   "cell_type": "code",
   "execution_count": null,
   "metadata": {},
   "outputs": [],
   "source": []
  },
  {
   "cell_type": "code",
   "execution_count": 13,
   "metadata": {},
   "outputs": [
    {
     "name": "stdout",
     "output_type": "stream",
     "text": [
      "['d', 'c', 'a', 'b', 'b', 'a']\n",
      "1\n"
     ]
    },
    {
     "data": {
      "text/plain": [
       "6"
      ]
     },
     "execution_count": 13,
     "metadata": {},
     "output_type": "execute_result"
    }
   ],
   "source": [
    "\n",
    "\n",
    "Solution.kSimilarity(\n",
    "    \"aabcde\",\n",
    "    \"dcaeba\"\n",
    ")"
   ]
  },
  {
   "cell_type": "code",
   "execution_count": null,
   "metadata": {},
   "outputs": [],
   "source": [
    "class Solution:\n",
    "    @staticmethod\n",
    "    def validate_sodoku_list(sudoku_list: list[str]):\n",
    "        n_count ={'1': 0, '2': 0, '3': 0, '4': 0, '5': 0, '6': 0, '7': 0, '8': 0, '9': 0}\n",
    "        for n in sudoku_list:\n",
    "            n_val = n_count.get(n)\n",
    "            if n_val is not None:\n",
    "                if n_count > 0:\n",
    "                    return None\n",
    "                n_count[n] += 1\n",
    "            else:\n",
    "                return False\n",
    "            \n",
    "        return True\n",
    "    def isValidSudoku(self, board: List[List[str]]) -> bool:\n",
    "        \n",
    "        three_lines = []\n",
    "        three_rows = []\n",
    "\n",
    "        for i in range(9):\n",
    "            \n",
    "            if not i // 3:\n",
    "                pass"
   ]
  },
  {
   "cell_type": "code",
   "execution_count": 14,
   "metadata": {},
   "outputs": [],
   "source": [
    "a=1\n",
    "b=a"
   ]
  },
  {
   "cell_type": "code",
   "execution_count": 15,
   "metadata": {},
   "outputs": [],
   "source": [
    "del a\n"
   ]
  },
  {
   "cell_type": "code",
   "execution_count": 16,
   "metadata": {},
   "outputs": [
    {
     "data": {
      "text/plain": [
       "1"
      ]
     },
     "execution_count": 16,
     "metadata": {},
     "output_type": "execute_result"
    }
   ],
   "source": [
    "b"
   ]
  },
  {
   "cell_type": "code",
   "execution_count": 19,
   "metadata": {},
   "outputs": [
    {
     "data": {
      "text/plain": [
       "''"
      ]
     },
     "execution_count": 19,
     "metadata": {},
     "output_type": "execute_result"
    }
   ],
   "source": [
    "''.join([])"
   ]
  },
  {
   "cell_type": "code",
   "execution_count": null,
   "metadata": {},
   "outputs": [],
   "source": [
    "x"
   ]
  }
 ],
 "metadata": {
  "kernelspec": {
   "display_name": "Python 3",
   "language": "python",
   "name": "python3"
  },
  "language_info": {
   "codemirror_mode": {
    "name": "ipython",
    "version": 3
   },
   "file_extension": ".py",
   "mimetype": "text/x-python",
   "name": "python",
   "nbconvert_exporter": "python",
   "pygments_lexer": "ipython3",
   "version": "3.9.6"
  }
 },
 "nbformat": 4,
 "nbformat_minor": 2
}
