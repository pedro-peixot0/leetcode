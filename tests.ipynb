{
 "cells": [
  {
   "cell_type": "code",
   "execution_count": 26,
   "metadata": {},
   "outputs": [],
   "source": [
    "\n",
    "class Node:\n",
    "    def __init__(self, val = 0, neighbors = None):\n",
    "        self.val = val\n",
    "        self.neighbors = neighbors if neighbors is not None else []\n",
    "\n",
    "\n",
    "from typing import Optional\n",
    "class Solution:\n",
    "    def cloneGraph(self, node: Optional['Node']) -> Optional['Node']:\n",
    "        cloned_table = {}\n",
    "        \n",
    "        def clone_node(starting_node):\n",
    "            nonlocal cloned_table\n",
    "            # checking if the node is empty\n",
    "            if not starting_node:\n",
    "                return None\n",
    "\n",
    "            # looking if node was already cloned\n",
    "            cloned_node = cloned_table.get(starting_node.val)\n",
    "            \n",
    "            if not cloned_node:\n",
    "                # creating and listing new Node\n",
    "                cloned_node = Node()\n",
    "                cloned_table[starting_node.val] = cloned_node\n",
    "\n",
    "                # assigning values\n",
    "                cloned_node.val = starting_node.val\n",
    "                cloned_node.neighbors=[\n",
    "                    clone_node(n) \n",
    "                    for n in starting_node.neighbors\n",
    "                ] if starting_node.neighbors else []\n",
    "                \n",
    "            print(starting_node.val, cloned_node.val)\n",
    "            print(starting_node.neighbors, cloned_node.neighbors)\n",
    "            # returning node\n",
    "            return cloned_node\n",
    "        \n",
    "        return clone_node(node)\n",
    "            \n",
    "\n",
    "\n"
   ]
  },
  {
   "cell_type": "code",
   "execution_count": null,
   "metadata": {},
   "outputs": [],
   "source": [
    "\"\"\"\n",
    "# Definition for a Node.\n",
    "class Node:\n",
    "    def __init__(self, val = 0, neighbors = None):\n",
    "        self.val = val\n",
    "        self.neighbors = neighbors if neighbors is not None else []\n",
    "\"\"\"\n",
    "\n",
    "class Solution:\n",
    "    def cloneGraph(self, node: 'Node') -> 'Node':\n",
    "        if node == None:\n",
    "            return None\n",
    "        nodes = []\n",
    "        seen = [0]* 101\n",
    "        nodes.append(0)\n",
    "        for i in range(100):\n",
    "            nodes.append(Node(i+1))\n",
    "        def dfs(n,cp):\n",
    "            if seen[n.val] == 1:\n",
    "                return\n",
    "            seen[n.val] = 1\n",
    "            if n.neighbors == None:\n",
    "                cp.neighbors = None\n",
    "                return\n",
    "\n",
    "            for i in n.neighbors:\n",
    "                cp.neighbors.append(nodes[i.val])\n",
    "                dfs(i,nodes[i.val])\n",
    "        dfs(node,nodes[node.val])\n",
    "\n",
    "        return nodes[node.val]"
   ]
  },
  {
   "cell_type": "code",
   "execution_count": 25,
   "metadata": {},
   "outputs": [
    {
     "data": {
      "text/plain": [
       "1"
      ]
     },
     "execution_count": 25,
     "metadata": {},
     "output_type": "execute_result"
    }
   ],
   "source": [
    "test ={}\n",
    "\n",
    "a= Node()\n",
    "test[1]=a\n",
    "a.val = 1\n",
    "test[1].val\n"
   ]
  },
  {
   "cell_type": "code",
   "execution_count": null,
   "metadata": {},
   "outputs": [],
   "source": []
  }
 ],
 "metadata": {
  "kernelspec": {
   "display_name": "Python 3",
   "language": "python",
   "name": "python3"
  },
  "language_info": {
   "codemirror_mode": {
    "name": "ipython",
    "version": 3
   },
   "file_extension": ".py",
   "mimetype": "text/x-python",
   "name": "python",
   "nbconvert_exporter": "python",
   "pygments_lexer": "ipython3",
   "version": "3.9.6"
  }
 },
 "nbformat": 4,
 "nbformat_minor": 2
}
