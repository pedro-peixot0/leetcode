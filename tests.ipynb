{
 "cells": [
  {
   "cell_type": "code",
   "execution_count": 27,
   "metadata": {},
   "outputs": [],
   "source": [
    "import copy\n",
    "from typing import Optional\n",
    "\n",
    "class Solution:\n",
    "    @staticmethod\n",
    "    def find_possible_numbers(board, current_i, current_j):\n",
    "        options = {'1', '2', '3', '4', '5', '6', '7', '8', '9'}\n",
    "\n",
    "        row = board[current_i]\n",
    "        column = [row[current_j] for row in board]\n",
    "\n",
    "        start_box_i = current_i // 3\n",
    "        start_box_j = current_j // 3\n",
    "\n",
    "        box = board[(start_box_i * 3) + 0][start_box_j*3:start_box_j*3 + 2] +\\\n",
    "              board[(start_box_i * 3) + 1][start_box_j*3:start_box_j*3 + 2] +\\\n",
    "              board[(start_box_i * 3) + 2][start_box_j*3:start_box_j*3 + 2]\n",
    "        \n",
    "        return  options - set(row + column + box)\n",
    "\n",
    "    @staticmethod\n",
    "    def next_position_to_look(current_i: int, current_j: int) -> tuple[int, int]:\n",
    "        current_j += 1\n",
    "        if current_j > 8:\n",
    "            if current_i < 8:\n",
    "                current_i += 1\n",
    "                current_j = 0\n",
    "            else:\n",
    "                return None\n",
    "\n",
    "        return current_i, current_j\n",
    "\n",
    "\n",
    "    def solveSudoku(self, board: list[list[str]]) -> None:\n",
    "        \n",
    "        def recursive_solve(board, current_i, current_j) -> Optional[list[list[int]]]:\n",
    "            if board[current_i][current_j] == '.':\n",
    "                # get all possible numbers\n",
    "                number_options = Solution.find_possible_numbers(board, current_i, current_j)\n",
    "\n",
    "                # if no possible numbers were found for the current position return None\n",
    "                if not number_options:\n",
    "                    return None\n",
    "                \n",
    "                # loop for all number options\n",
    "                for number in number_options:\n",
    "                    # add one of the options\n",
    "                    board[current_i][current_j] = number\n",
    "                    if current_i > 7 and current_j > 7:\n",
    "                        return board\n",
    "\n",
    "                    # send the board to the next position\n",
    "                    next_i, next_j = Solution.next_position_to_look(current_i, current_j)\n",
    "                    solution = recursive_solve(board, next_i, next_j)  \n",
    "\n",
    "                    if solution is not None:\n",
    "                        return solution\n",
    "                    \n",
    "                    board[current_i][current_j] = '.'\n",
    "\n",
    "            # if there already is a number on the current position\n",
    "            else:\n",
    "                if current_i > 7 and current_j > 7:\n",
    "                    return board\n",
    "                \n",
    "                # move to the next position\n",
    "                next_i, next_j = Solution.next_position_to_look(current_i, current_j)\n",
    "                solution = recursive_solve(board, next_i, next_j)\n",
    "\n",
    "                return solution \n",
    "        \n",
    "            return None\n",
    "            \n",
    "        return recursive_solve(board, 0, 0)\n",
    "                \n",
    "            \n",
    "        "
   ]
  },
  {
   "cell_type": "code",
   "execution_count": 28,
   "metadata": {},
   "outputs": [],
   "source": [
    "board = [[\"5\",\"3\",\".\",\".\",\"7\",\".\",\".\",\".\",\".\"],[\"6\",\".\",\".\",\"1\",\"9\",\"5\",\".\",\".\",\".\"],[\".\",\"9\",\"8\",\".\",\".\",\".\",\".\",\"6\",\".\"],[\"8\",\".\",\".\",\".\",\"6\",\".\",\".\",\".\",\"3\"],[\"4\",\".\",\".\",\"8\",\".\",\"3\",\".\",\".\",\"1\"],[\"7\",\".\",\".\",\".\",\"2\",\".\",\".\",\".\",\"6\"],[\".\",\"6\",\".\",\".\",\".\",\".\",\"2\",\"8\",\".\"],[\".\",\".\",\".\",\"4\",\"1\",\"9\",\".\",\".\",\"5\"],[\".\",\".\",\".\",\".\",\"8\",\".\",\".\",\"7\",\"9\"]]\n",
    "\n",
    "sol = Solution().solveSudoku(board)"
   ]
  },
  {
   "cell_type": "code",
   "execution_count": 29,
   "metadata": {},
   "outputs": [
    {
     "data": {
      "text/plain": [
       "[['5', '3', '4', '6', '7', '8', '9', '1', '2'],\n",
       " ['6', '7', '2', '1', '9', '5', '3', '4', '8'],\n",
       " ['1', '9', '8', '3', '4', '2', '5', '6', '7'],\n",
       " ['8', '5', '9', '7', '6', '1', '4', '2', '3'],\n",
       " ['4', '2', '6', '8', '5', '3', '7', '9', '1'],\n",
       " ['7', '1', '3', '9', '2', '4', '8', '5', '6'],\n",
       " ['9', '6', '1', '5', '3', '7', '2', '8', '4'],\n",
       " ['2', '8', '7', '4', '1', '9', '6', '3', '5'],\n",
       " ['3', '4', '5', '2', '8', '6', '1', '7', '9']]"
      ]
     },
     "execution_count": 29,
     "metadata": {},
     "output_type": "execute_result"
    }
   ],
   "source": [
    "sol"
   ]
  },
  {
   "cell_type": "code",
   "execution_count": 157,
   "metadata": {},
   "outputs": [
    {
     "data": {
      "text/plain": [
       "[['5', '3', '1', '6', '7', '2', '4', '9', '.'],\n",
       " ['6', '.', '.', '1', '9', '5', '.', '.', '.'],\n",
       " ['.', '9', '8', '.', '.', '.', '.', '6', '.'],\n",
       " ['8', '.', '.', '.', '6', '.', '.', '.', '3'],\n",
       " ['4', '.', '.', '8', '.', '3', '.', '.', '1'],\n",
       " ['7', '.', '.', '.', '2', '.', '.', '.', '6'],\n",
       " ['.', '6', '.', '.', '.', '.', '2', '8', '.'],\n",
       " ['.', '.', '.', '4', '1', '9', '.', '.', '5'],\n",
       " ['.', '.', '.', '.', '8', '.', '.', '7', '9']]"
      ]
     },
     "execution_count": 157,
     "metadata": {},
     "output_type": "execute_result"
    }
   ],
   "source": [
    "[['5', '3', '1', '6', '7', '2', '4', '9', '.'], \n",
    " ['6', '.', '.', '1', '9', '5', '.', '.', '.'], \n",
    " ['.', '9', '8', '.', '.', '.', '.', '6', '.'], \n",
    " ['8', '.', '.', '.', '6', '.', '.', '.', '3'], \n",
    " ['4', '.', '.', '8', '.', '3', '.', '.', '1'], \n",
    " ['7', '.', '.', '.', '2', '.', '.', '.', '6'], \n",
    " ['.', '6', '.', '.', '.', '.', '2', '8', '.'], \n",
    " ['.', '.', '.', '4', '1', '9', '.', '.', '5'], \n",
    " ['.', '.', '.', '.', '8', '.', '.', '7', '9']]\n"
   ]
  },
  {
   "cell_type": "code",
   "execution_count": 24,
   "metadata": {},
   "outputs": [],
   "source": [
    "a = []\n",
    "\n",
    "def a_f(lesta):\n",
    "    lesta.append(1)\n",
    "    return lesta"
   ]
  },
  {
   "cell_type": "code",
   "execution_count": 25,
   "metadata": {},
   "outputs": [
    {
     "data": {
      "text/plain": [
       "[1]"
      ]
     },
     "execution_count": 25,
     "metadata": {},
     "output_type": "execute_result"
    }
   ],
   "source": [
    "a_f(a)"
   ]
  },
  {
   "cell_type": "code",
   "execution_count": 26,
   "metadata": {},
   "outputs": [
    {
     "data": {
      "text/plain": [
       "[1]"
      ]
     },
     "execution_count": 26,
     "metadata": {},
     "output_type": "execute_result"
    }
   ],
   "source": [
    "a"
   ]
  },
  {
   "cell_type": "code",
   "execution_count": null,
   "metadata": {},
   "outputs": [],
   "source": []
  }
 ],
 "metadata": {
  "kernelspec": {
   "display_name": "Python 3",
   "language": "python",
   "name": "python3"
  },
  "language_info": {
   "codemirror_mode": {
    "name": "ipython",
    "version": 3
   },
   "file_extension": ".py",
   "mimetype": "text/x-python",
   "name": "python",
   "nbconvert_exporter": "python",
   "pygments_lexer": "ipython3",
   "version": "3.9.6"
  }
 },
 "nbformat": 4,
 "nbformat_minor": 2
}
