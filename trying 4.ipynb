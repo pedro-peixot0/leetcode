{
 "cells": [
  {
   "cell_type": "code",
   "execution_count": 438,
   "metadata": {},
   "outputs": [],
   "source": [
    "class Solution:\n",
    "    @staticmethod\n",
    "    def _get_sorted_list_median(sorted_list: list[int]) -> float:\n",
    "        if len(sorted_list) % 2 == 0:\n",
    "            return (sorted_list[len(sorted_list) // 2 - 1] + sorted_list[len(sorted_list) // 2]) / 2\n",
    "        \n",
    "        \n",
    "        return sorted_list[len(sorted_list) // 2]\n",
    "    \n",
    "    @staticmethod\n",
    "    def findMedianSortedArrays(nums1: list[int], nums2: list[int]) -> float:\n",
    "        if not len(nums1):\n",
    "            return Solution._get_sorted_list_median(nums2)\n",
    "        if not len(nums2):\n",
    "            return Solution._get_sorted_list_median(nums1)\n",
    "        \n",
    "        start_num1 = nums1[0]\n",
    "        start_num2 = nums2[0]\n",
    "\n",
    "        outer_loop, inner_loop = (nums1, nums2) if start_num1 <= start_num2 else (nums2, nums1)\n",
    "\n",
    "        new_sorted_list = []\n",
    "        inner_index = 0\n",
    "\n",
    "        for oi, ov in enumerate(outer_loop):\n",
    "            if ov < inner_loop[inner_index]:\n",
    "                new_sorted_list.append(ov)\n",
    "                continue\n",
    "            \n",
    "            for ii, iv in enumerate(inner_loop[inner_index:]):\n",
    "                if inner_index >= len(inner_loop):\n",
    "                    break\n",
    "        \n",
    "                if iv < ov:\n",
    "                    new_sorted_list.append(iv)\n",
    "                    continue\n",
    "                \n",
    "                break\n",
    "            inner_index += ii\n",
    "\n",
    "            \n",
    "            new_sorted_list.append(ov)\n",
    "\n",
    "        for i in range(inner_index, len(inner_loop)):\n",
    "            if inner_loop[i] >= outer_loop[-1]:\n",
    "                new_sorted_list.append(inner_loop[i])\n",
    "\n",
    "        return new_sorted_list\n",
    "        return Solution._get_sorted_list_median(new_sorted_list)\n",
    "\n",
    "        "
   ]
  },
  {
   "cell_type": "markdown",
   "metadata": {},
   "source": []
  },
  {
   "cell_type": "code",
   "execution_count": 439,
   "metadata": {},
   "outputs": [
    {
     "data": {
      "text/plain": [
       "[1, 2, 3, 2, 4]"
      ]
     },
     "execution_count": 439,
     "metadata": {},
     "output_type": "execute_result"
    }
   ],
   "source": [
    "Solution.findMedianSortedArrays([2,3,4],[1,3,4])"
   ]
  },
  {
   "cell_type": "code",
   "execution_count": 403,
   "metadata": {},
   "outputs": [
    {
     "data": {
      "text/plain": [
       "1"
      ]
     },
     "execution_count": 403,
     "metadata": {},
     "output_type": "execute_result"
    }
   ],
   "source": [
    "3 // 2"
   ]
  },
  {
   "cell_type": "code",
   "execution_count": 350,
   "metadata": {},
   "outputs": [
    {
     "data": {
      "text/plain": [
       "'d'"
      ]
     },
     "execution_count": 350,
     "metadata": {},
     "output_type": "execute_result"
    }
   ],
   "source": [
    "'d'[0:]"
   ]
  },
  {
   "cell_type": "markdown",
   "metadata": {},
   "source": []
  },
  {
   "cell_type": "code",
   "execution_count": null,
   "metadata": {},
   "outputs": [],
   "source": [
    "from typing import Optional\n",
    "from math import log10, floor\n",
    "\n",
    "\n",
    "class ListNode:\n",
    "    def __init__(self, val=0, next=None):\n",
    "        self.val = val\n",
    "        self.next = next\n",
    "\n",
    "class ListNodeIterable:\n",
    "    def __init__(self, ln: ListNode):\n",
    "        self.ln = ln\n",
    "    \n",
    "    def __iter__(self):\n",
    "        return self\n",
    "    \n",
    "    def __next__(self):\n",
    "        if self.ln is None:\n",
    "            return 0, False\n",
    "        \n",
    "        val = self.ln.val\n",
    "        self.ln = self.ln.next\n",
    "        \n",
    "        return val, True\n",
    "    \n",
    "class Solution:\n",
    "    @staticmethod\n",
    "    def addTwoNumbers(l1: list[ListNode], l2: list[ListNode]) -> Optional[list[int]]:\n",
    "        l1 = ListNodeIterable(l1)\n",
    "        l2 = ListNodeIterable(l2)\n",
    "\n",
    "        final_node = ListNode(val=None, next=None)\n",
    "        carry = 0\n",
    "        while True:\n",
    "            n1, next_1 = next(l1)\n",
    "            n2, next_2 = next(l2)\n",
    "\n",
    "            carry, val = divmod(n1+n2+carry, 10)\n",
    "        \n",
    "            if final_node.val is None:\n",
    "                final_node.val = val\n",
    "                continue\n",
    "\n",
    "            if not any([next_1, next_2, carry, val]):\n",
    "                break\n",
    "\n",
    "            target_node = final_node\n",
    "            while target_node.next is not None:\n",
    "                target_node = target_node.next\n",
    "            target_node.next = ListNode(val=val, next=None)\n",
    "            \n",
    "\n",
    "        return final_node"
   ]
  }
 ],
 "metadata": {
  "kernelspec": {
   "display_name": "Python 3",
   "language": "python",
   "name": "python3"
  },
  "language_info": {
   "codemirror_mode": {
    "name": "ipython",
    "version": 3
   },
   "file_extension": ".py",
   "mimetype": "text/x-python",
   "name": "python",
   "nbconvert_exporter": "python",
   "pygments_lexer": "ipython3",
   "version": "3.9.6"
  }
 },
 "nbformat": 4,
 "nbformat_minor": 2
}
